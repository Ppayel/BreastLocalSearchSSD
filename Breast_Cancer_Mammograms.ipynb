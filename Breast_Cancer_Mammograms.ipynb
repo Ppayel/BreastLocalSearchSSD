{
  "cells": [
    {
      "cell_type": "markdown",
      "metadata": {
        "id": "view-in-github",
        "colab_type": "text"
      },
      "source": [
        "<a href=\"https://colab.research.google.com/github/Ppayel/BreastLocalSearchSSD/blob/main/Breast_Cancer_Mammograms.ipynb\" target=\"_parent\"><img src=\"https://colab.research.google.com/assets/colab-badge.svg\" alt=\"Open In Colab\"/></a>"
      ]
    },
    {
      "cell_type": "markdown",
      "metadata": {
        "id": "-dDf1QodwWwq"
      },
      "source": [
        "To get the dataset from Kaggle"
      ]
    },
    {
      "cell_type": "code",
      "execution_count": null,
      "metadata": {
        "colab": {
          "base_uri": "https://localhost:8080/",
          "height": 353,
          "resources": {
            "http://localhost:8080/nbextensions/google.colab/files.js": {
              "data": "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",
              "headers": [
                [
                  "content-type",
                  "application/javascript"
                ]
              ],
              "ok": true,
              "status": 200,
              "status_text": ""
            }
          }
        },
        "id": "hDv_b2n8wIZb",
        "outputId": "f4d99f7e-eb8c-4c73-990a-d380386e768d"
      },
      "outputs": [
        {
          "output_type": "stream",
          "name": "stdout",
          "text": [
            "Looking in indexes: https://pypi.org/simple, https://us-python.pkg.dev/colab-wheels/public/simple/\n",
            "Collecting kaggle\n",
            "  Downloading kaggle-1.5.12.tar.gz (58 kB)\n",
            "\u001b[K     |████████████████████████████████| 58 kB 3.0 MB/s \n",
            "\u001b[?25hBuilding wheels for collected packages: kaggle\n",
            "  Building wheel for kaggle (setup.py) ... \u001b[?25l\u001b[?25hdone\n",
            "  Created wheel for kaggle: filename=kaggle-1.5.12-py3-none-any.whl size=73051 sha256=7de97b1661e1d9bf58dcda0c938a7bf04a96a378ba7925018c65769f557cafb2\n",
            "  Stored in directory: /root/.cache/pip/wheels/62/d6/58/5853130f941e75b2177d281eb7e44b4a98ed46dd155f556dc5\n",
            "Successfully built kaggle\n",
            "Installing collected packages: kaggle\n",
            "  Attempting uninstall: kaggle\n",
            "    Found existing installation: kaggle 1.5.12\n",
            "    Uninstalling kaggle-1.5.12:\n",
            "      Successfully uninstalled kaggle-1.5.12\n",
            "Successfully installed kaggle-1.5.12\n"
          ]
        },
        {
          "output_type": "display_data",
          "data": {
            "text/plain": [
              "<IPython.core.display.HTML object>"
            ],
            "text/html": [
              "\n",
              "     <input type=\"file\" id=\"files-09789dbf-8f79-4598-a319-a422faf893c6\" name=\"files[]\" multiple disabled\n",
              "        style=\"border:none\" />\n",
              "     <output id=\"result-09789dbf-8f79-4598-a319-a422faf893c6\">\n",
              "      Upload widget is only available when the cell has been executed in the\n",
              "      current browser session. Please rerun this cell to enable.\n",
              "      </output>\n",
              "      <script src=\"/nbextensions/google.colab/files.js\"></script> "
            ]
          },
          "metadata": {}
        },
        {
          "output_type": "stream",
          "name": "stdout",
          "text": [
            "Saving kaggle.json to kaggle.json\n"
          ]
        }
      ],
      "source": [
        "!pip install --upgrade --force-reinstall --no-deps kaggle\n",
        "from google.colab import files\n",
        "files.upload()\n",
        "! mkdir ~/.kaggle\n",
        "! cp kaggle.json ~/.kaggle/\n",
        "! chmod 600 ~/.kaggle/kaggle.json"
      ]
    },
    {
      "cell_type": "code",
      "execution_count": null,
      "metadata": {
        "colab": {
          "base_uri": "https://localhost:8080/"
        },
        "id": "dXObHJ7Mwdko",
        "outputId": "792e783a-6cb7-4e65-a014-0685b4bfaf9b"
      },
      "outputs": [
        {
          "output_type": "stream",
          "name": "stdout",
          "text": [
            "Downloading ddsm-mammography.zip to /content\n",
            " 99% 2.86G/2.88G [00:14<00:00, 190MB/s]\n",
            "100% 2.88G/2.88G [00:14<00:00, 216MB/s]\n"
          ]
        }
      ],
      "source": [
        "!kaggle datasets download -d 'skooch/ddsm-mammography'\n",
        "!unzip -q '/content/ddsm-mammography.zip'"
      ]
    },
    {
      "cell_type": "code",
      "execution_count": null,
      "metadata": {
        "id": "JP6QzELcweZZ"
      },
      "outputs": [],
      "source": [
        "import glob\n",
        "import numpy as np\n",
        "import pandas as pd\n",
        "import os\n",
        "import shutil \n",
        "import matplotlib.pyplot as plt\n",
        "import tensorflow as tf\n",
        "from tensorflow import keras\n",
        "import cv2\n",
        "from keras.preprocessing.image import ImageDataGenerator, load_img, img_to_array, array_to_img\n",
        "%matplotlib inline"
      ]
    },
    {
      "cell_type": "markdown",
      "source": [
        "*data pre-processing*"
      ],
      "metadata": {
        "id": "hTP5burQ-aIy"
      }
    },
    {
      "cell_type": "code",
      "execution_count": null,
      "metadata": {
        "id": "ro5TvBdRwgmx"
      },
      "outputs": [],
      "source": [
        "images=[]\n",
        "labels=[]\n",
        "feature_dictionary = {\n",
        "    'label': tf.io.FixedLenFeature([], tf.int64),\n",
        "    'label_normal': tf.io.FixedLenFeature([], tf.int64),\n",
        "    'image': tf.io.FixedLenFeature([], tf.string)\n",
        "    }\n",
        "Image_height = 224\n",
        "Image_width = 224"
      ]
    },
    {
      "cell_type": "code",
      "execution_count": null,
      "metadata": {
        "id": "mtLF8HJ-wOwZ"
      },
      "outputs": [],
      "source": [
        "def _parse_function(example, feature_dictionary=feature_dictionary):\n",
        "    parsed_example = tf.io.parse_example(example, feature_dictionary)\n",
        "    return parsed_example\n",
        " \n",
        "def read_data(filename):\n",
        "    full_dataset = tf.data.TFRecordDataset(filename,num_parallel_reads=tf.data.experimental.AUTOTUNE)\n",
        "    print(full_dataset)\n",
        "    full_dataset = full_dataset.shuffle(buffer_size=31000)\n",
        "    full_dataset = full_dataset.cache()\n",
        "    print(\"Size of Training Dataset: \", len(list(full_dataset)))\n",
        "    \n",
        "    feature_dictionary = {\n",
        "    'label': tf.io.FixedLenFeature([], tf.int64),\n",
        "    'label_normal': tf.io.FixedLenFeature([], tf.int64),\n",
        "    'image': tf.io.FixedLenFeature([], tf.string)\n",
        "    }   \n",
        " \n",
        "    full_dataset = full_dataset.map(_parse_function, num_parallel_calls=tf.data.experimental.AUTOTUNE)\n",
        "    print(full_dataset)\n",
        "    for image_features in full_dataset:\n",
        "        image = image_features['image'].numpy()\n",
        "        image = tf.io.decode_raw(image_features['image'], tf.uint8)\n",
        "        image = tf.reshape(image, [299, 299])        \n",
        "        image=image.numpy()\n",
        "        image=cv2.resize(image,(Image_height,Image_width))\n",
        "        image=cv2.merge([image,image,image])        \n",
        "        #plt.imshow(image)\n",
        "        images.append(image)\n",
        "        labels.append(image_features['label_normal'].numpy())"
      ]
    },
    {
      "cell_type": "code",
      "execution_count": null,
      "metadata": {
        "colab": {
          "base_uri": "https://localhost:8080/"
        },
        "id": "AIElih9Nwv5y",
        "outputId": "da2d3c8e-64b8-4702-9504-b9c80d464fe5"
      },
      "outputs": [
        {
          "output_type": "stream",
          "name": "stdout",
          "text": [
            "<TFRecordDatasetV2 element_spec=TensorSpec(shape=(), dtype=tf.string, name=None)>\n",
            "Size of Training Dataset:  11177\n",
            "<ParallelMapDataset element_spec={'image': TensorSpec(shape=(), dtype=tf.string, name=None), 'label': TensorSpec(shape=(), dtype=tf.int64, name=None), 'label_normal': TensorSpec(shape=(), dtype=tf.int64, name=None)}>\n",
            "11177\n",
            "11177\n"
          ]
        }
      ],
      "source": [
        "filenames=['/content/training10_3/training10_3.tfrecords',\n",
        "#           '/content/training10_0/training10_0.tfrecords',\n",
        "#          '/content/training10_2/training10_2.tfrecords',\n",
        "#          '/content/training10_3/training10_3.tfrecords',\n",
        "#          '/content/training10_4/training10_4.tfrecords'\n",
        "          ]\n",
        " \n",
        "for file in filenames:\n",
        "    read_data(file)\n",
        " \n",
        "print(len(images))\n",
        "print(len(labels))"
      ]
    },
    {
      "cell_type": "code",
      "execution_count": null,
      "metadata": {
        "id": "jHDSY6MVwzFJ"
      },
      "outputs": [],
      "source": [
        "images = np.array(images)\n",
        "labels = np.array(labels)\n",
        " "
      ]
    },
    {
      "cell_type": "code",
      "execution_count": null,
      "metadata": {
        "colab": {
          "base_uri": "https://localhost:8080/",
          "height": 286
        },
        "id": "uBV8w1wr7_Sw",
        "outputId": "4a20a190-1b75-42c1-afd1-4db97d8f6dda"
      },
      "outputs": [
        {
          "output_type": "stream",
          "name": "stdout",
          "text": [
            "(224, 224, 3)\n"
          ]
        },
        {
          "output_type": "display_data",
          "data": {
            "text/plain": [
              "<Figure size 432x288 with 1 Axes>"
            ],
            "image/png": "[encoded data removed]"
          },
          "metadata": {
            "needs_background": "light"
          }
        }
      ],
      "source": [
        "plt.imshow(images[19])\n",
        "print(images[0].shape)"
      ]
    },
    {
      "cell_type": "markdown",
      "source": [
        "* Split dataset into training, validation and testing sets*"
      ],
      "metadata": {
        "id": "EMfcNLwGZYQt"
      }
    },
    {
      "cell_type": "code",
      "source": [
        "from sklearn.model_selection import train_test_split\n",
        "train_images, valid_images, train_labels, valid_labels = train_test_split(images, labels, test_size=0.20, stratify = labels, random_state=10)\n",
        "#print(len(images))\n",
        "print(len(train_images))\n",
        "print(len(valid_images))"
      ],
      "metadata": {
        "colab": {
          "base_uri": "https://localhost:8080/"
        },
        "id": "O9dIFqIBRoSr",
        "outputId": "b2c22f1b-f0e5-4042-f0b2-fd3ccb6efadb"
      },
      "execution_count": null,
      "outputs": [
        {
          "output_type": "stream",
          "name": "stdout",
          "text": [
            "8941\n",
            "2236\n"
          ]
        }
      ]
    },
    {
      "cell_type": "code",
      "source": [
        "val_img, test_img, val_lab, test_lab = train_test_split(valid_images, valid_labels, test_size=0.5, stratify = valid_labels, random_state=50)\n",
        "print(len(val_img))\n",
        "print(len(test_img))"
      ],
      "metadata": {
        "colab": {
          "base_uri": "https://localhost:8080/"
        },
        "id": "CSit9X8rRpHz",
        "outputId": "652ca013-982a-4df2-92dd-3e2a35ceb0dd"
      },
      "execution_count": null,
      "outputs": [
        {
          "output_type": "stream",
          "name": "stdout",
          "text": [
            "1118\n",
            "1118\n"
          ]
        }
      ]
    },
    {
      "cell_type": "markdown",
      "metadata": {
        "id": "2fveXbhlyENR"
      },
      "source": [
        "*Attention-aided VGG16*"
      ]
    },
    {
      "cell_type": "code",
      "execution_count": null,
      "metadata": {
        "colab": {
          "base_uri": "https://localhost:8080/"
        },
        "id": "lno-tazmxnjJ",
        "outputId": "c04e627a-48c0-4ada-a524-3445c45dde03"
      },
      "outputs": [
        {
          "output_type": "stream",
          "name": "stdout",
          "text": [
            "Downloading data from https://storage.googleapis.com/tensorflow/keras-applications/vgg16/vgg16_weights_tf_dim_ordering_tf_kernels_notop.h5\n",
            "58892288/58889256 [==============================] - 0s 0us/step\n",
            "58900480/58889256 [==============================] - 0s 0us/step\n",
            "Model: \"model\"\n",
            "__________________________________________________________________________________________________\n",
            " Layer (type)                   Output Shape         Param #     Connected to                     \n",
            "==================================================================================================\n",
            " input_1 (InputLayer)           [(None, 224, 224, 3  0           []                               \n",
            "                                )]                                                                \n",
            "                                                                                                  \n",
            " vgg16 (Functional)             (None, 7, 7, 512)    14714688    ['input_1[0][0]']                \n",
            "                                                                                                  \n",
            " batch_normalization (BatchNorm  (None, 7, 7, 512)   2048        ['vgg16[1][0]']                  \n",
            " alization)                                                                                       \n",
            "                                                                                                  \n",
            " conv2d (Conv2D)                (None, 7, 7, 64)     32832       ['batch_normalization[0][0]']    \n",
            "                                                                                                  \n",
            " conv2d_1 (Conv2D)              (None, 7, 7, 16)     1040        ['conv2d[0][0]']                 \n",
            "                                                                                                  \n",
            " locally_connected2d (LocallyCo  (None, 7, 7, 1)     833         ['conv2d_1[0][0]']               \n",
            " nnected2D)                                                                                       \n",
            "                                                                                                  \n",
            " conv2d_2 (Conv2D)              (None, 7, 7, 512)    512         ['locally_connected2d[0][0]']    \n",
            "                                                                                                  \n",
            " multiply (Multiply)            (None, 7, 7, 512)    0           ['conv2d_2[0][0]',               \n",
            "                                                                  'batch_normalization[0][0]']    \n",
            "                                                                                                  \n",
            " global_average_pooling2d (Glob  (None, 512)         0           ['multiply[0][0]']               \n",
            " alAveragePooling2D)                                                                              \n",
            "                                                                                                  \n",
            " global_average_pooling2d_1 (Gl  (None, 512)         0           ['conv2d_2[0][0]']               \n",
            " obalAveragePooling2D)                                                                            \n",
            "                                                                                                  \n",
            " RescaleGAP (Lambda)            (None, 512)          0           ['global_average_pooling2d[0][0]'\n",
            "                                                                 , 'global_average_pooling2d_1[0][\n",
            "                                                                 0]']                             \n",
            "                                                                                                  \n",
            " dropout (Dropout)              (None, 512)          0           ['RescaleGAP[0][0]']             \n",
            "                                                                                                  \n",
            " dense (Dense)                  (None, 128)          65664       ['dropout[0][0]']                \n",
            "                                                                                                  \n",
            " dropout_1 (Dropout)            (None, 128)          0           ['dense[0][0]']                  \n",
            "                                                                                                  \n",
            " dense_1 (Dense)                (None, 1)            129         ['dropout_1[0][0]']              \n",
            "                                                                                                  \n",
            "==================================================================================================\n",
            "Total params: 14,817,746\n",
            "Trainable params: 101,522\n",
            "Non-trainable params: 14,716,224\n",
            "__________________________________________________________________________________________________\n"
          ]
        }
      ],
      "source": [
        "from keras.applications.vgg16 import VGG16\n",
        "from keras.layers import GlobalAveragePooling2D, Dense, Dropout, Flatten, Input, Conv2D, multiply, LocallyConnected2D, Lambda\n",
        "from keras.models import Model\n",
        "in_lay = Input(train_images.shape[1:])\n",
        "base_pretrained_model = VGG16(input_shape = train_images.shape[1:], include_top = False, weights = 'imagenet')\n",
        "base_pretrained_model.trainable = False\n",
        "pt_features = base_pretrained_model(in_lay)\n",
        "pt_depth = base_pretrained_model.get_output_shape_at(0)[-1]\n",
        "pt_features = base_pretrained_model(in_lay)\n",
        "from keras.layers import BatchNormalization\n",
        "bn_features = BatchNormalization()(pt_features)\n",
        "# here we do an attention mechanism to turn pixels in the GAP on an off\n",
        "attn_layer = Conv2D(64, kernel_size = (1,1), padding = 'same', activation = 'relu')(bn_features)\n",
        "attn_layer = Conv2D(16, kernel_size = (1,1), padding = 'same', activation = 'relu')(attn_layer)\n",
        "attn_layer = LocallyConnected2D(1, \n",
        "                                kernel_size = (1,1), \n",
        "                                padding = 'valid', \n",
        "                                activation = 'sigmoid')(attn_layer)\n",
        "                        \n",
        "# fan it out to all of the channels\n",
        "up_c2_w = np.ones((1, 1, 1, pt_depth))\n",
        "up_c2 = Conv2D(pt_depth, kernel_size = (1,1), padding = 'same', \n",
        "               activation = 'linear', use_bias = False, weights = [up_c2_w])\n",
        "up_c2.trainable = False\n",
        "attn_layer = up_c2(attn_layer)\n",
        "\n",
        "mask_features = multiply([attn_layer, bn_features])\n",
        "gap_features = GlobalAveragePooling2D()(mask_features)\n",
        "gap_mask = GlobalAveragePooling2D()(attn_layer)\n",
        "\n",
        "# to account for missing values from the attention model\n",
        "gap = Lambda(lambda x: x[0]/x[1], name = 'RescaleGAP')([gap_features, gap_mask])\n",
        "gap_dr = Dropout(0.5)(gap)\n",
        "dr_steps = Dropout(0.25)(Dense(128, activation = 'elu')(gap_dr))\n",
        "out_layer = Dense(1, activation = 'sigmoid')(dr_steps)\n",
        "\n",
        "final_model = Model(inputs = [in_lay], outputs = [out_layer])\n",
        "final_model.summary()"
      ]
    },
    {
      "cell_type": "markdown",
      "source": [
        "*Training of the model*"
      ],
      "metadata": {
        "id": "K8DxxWn6-pqA"
      }
    },
    {
      "cell_type": "code",
      "execution_count": null,
      "metadata": {
        "id": "9xeUj7LlyZMR"
      },
      "outputs": [],
      "source": [
        "from tensorflow.keras.callbacks import EarlyStopping, ModelCheckpoint\n",
        "es = EarlyStopping(monitor='val_loss', mode='min', patience=6,restore_best_weights=True, verbose=1)"
      ]
    },
    {
      "cell_type": "code",
      "source": [
        "final_model.compile(optimizer='adam',loss='binary_crossentropy', metrics=['accuracy'])\n",
        "history = final_model.fit(train_images, train_labels,validation_data=(val_img, val_lab),shuffle=True, epochs=40, batch_size=64,callbacks=[es])\n",
        "loss_value , accuracy = final_model.evaluate(test_img, test_lab)\n",
        "\n",
        "print('Test_loss_value = ' +str(loss_value))\n",
        "print('test_accuracy = ' + str(accuracy))\n",
        "\n",
        "#print(model.predict(x_test))\n",
        "#model.save('breast_cance_model.h5')\n"
      ],
      "metadata": {
        "colab": {
          "base_uri": "https://localhost:8080/"
        },
        "id": "RENljyvvR8H7",
        "outputId": "2e0035b2-072d-43aa-9501-f3db7cfcf3ac"
      },
      "execution_count": null,
      "outputs": [
        {
          "output_type": "stream",
          "name": "stdout",
          "text": [
            "Epoch 1/40\n",
            "140/140 [==============================] - 83s 466ms/step - loss: 0.3412 - accuracy: 0.8587 - val_loss: 0.2902 - val_accuracy: 0.8909\n",
            "Epoch 2/40\n",
            "140/140 [==============================] - 47s 336ms/step - loss: 0.2720 - accuracy: 0.8863 - val_loss: 0.2499 - val_accuracy: 0.8927\n",
            "Epoch 3/40\n",
            "140/140 [==============================] - 49s 347ms/step - loss: 0.2573 - accuracy: 0.8968 - val_loss: 0.2401 - val_accuracy: 0.9052\n",
            "Epoch 4/40\n",
            "140/140 [==============================] - 49s 353ms/step - loss: 0.2420 - accuracy: 0.9053 - val_loss: 0.2437 - val_accuracy: 0.8989\n",
            "Epoch 5/40\n",
            "140/140 [==============================] - 51s 362ms/step - loss: 0.2311 - accuracy: 0.9072 - val_loss: 0.2301 - val_accuracy: 0.9159\n",
            "Epoch 6/40\n",
            "140/140 [==============================] - 51s 363ms/step - loss: 0.2120 - accuracy: 0.9169 - val_loss: 0.2323 - val_accuracy: 0.9070\n",
            "Epoch 7/40\n",
            "140/140 [==============================] - 51s 364ms/step - loss: 0.1870 - accuracy: 0.9272 - val_loss: 0.2243 - val_accuracy: 0.9195\n",
            "Epoch 8/40\n",
            "140/140 [==============================] - 51s 364ms/step - loss: 0.1826 - accuracy: 0.9285 - val_loss: 0.2291 - val_accuracy: 0.9106\n",
            "Epoch 9/40\n",
            "140/140 [==============================] - 51s 361ms/step - loss: 0.1614 - accuracy: 0.9405 - val_loss: 0.2402 - val_accuracy: 0.9123\n",
            "Epoch 10/40\n",
            "140/140 [==============================] - 51s 365ms/step - loss: 0.1484 - accuracy: 0.9440 - val_loss: 0.2447 - val_accuracy: 0.9186\n",
            "Epoch 11/40\n",
            "140/140 [==============================] - 51s 361ms/step - loss: 0.1376 - accuracy: 0.9459 - val_loss: 0.2518 - val_accuracy: 0.9186\n",
            "Epoch 12/40\n",
            "140/140 [==============================] - 51s 363ms/step - loss: 0.1204 - accuracy: 0.9537 - val_loss: 0.2680 - val_accuracy: 0.9141\n",
            "Epoch 13/40\n",
            "140/140 [==============================] - ETA: 0s - loss: 0.1171 - accuracy: 0.9565Restoring model weights from the end of the best epoch: 7.\n",
            "140/140 [==============================] - 51s 363ms/step - loss: 0.1171 - accuracy: 0.9565 - val_loss: 0.2750 - val_accuracy: 0.9159\n",
            "Epoch 13: early stopping\n",
            "35/35 [==============================] - 11s 128ms/step - loss: 0.2136 - accuracy: 0.9141\n",
            "Test_loss_value = 0.2135736048221588\n",
            "test_accuracy = 0.9141323566436768\n"
          ]
        }
      ]
    },
    {
      "cell_type": "code",
      "execution_count": null,
      "metadata": {
        "id": "aqrOtVIpyvOa"
      },
      "outputs": [],
      "source": [
        "#plotting training values\n",
        "import matplotlib.pyplot as plt\n",
        "import seaborn as sns\n",
        "sns.set()\n",
        "\n",
        "accuracy = history.history['accuracy']\n",
        "val_accuracy = history.history['val_accuracy']\n",
        "loss = history.history['loss']\n",
        "val_loss = history.history['val_loss']\n",
        "#epochs = range(1, len(loss) + 1)\n",
        "\n",
        "#accuracy plot\n",
        "plt.plot(plt.xticks(1,21,1), accuracy, color='b', label='Training Accuracy')\n",
        "plt.plot(epochs, val_accuracy, color='r', label='Validation Accuracy')\n",
        "plt.title('Training and Validation Accuracy')\n",
        "plt.ylabel('Accuracy')\n",
        "plt.xlabel('Epoch')\n",
        "plt.legend()\n",
        "\n",
        "plt.figure()\n",
        "#loss plot\n",
        "plt.plot(epochs, loss, color='g', label='Training Loss')\n",
        "plt.plot(epochs, val_loss, color='y', label='Validation Loss')\n",
        "plt.title('Training and Validation Loss')\n",
        "plt.xlabel('Epoch')\n",
        "plt.ylabel('Loss')\n",
        "plt.legend()\n",
        "\n",
        "plt.show()"
      ]
    },
    {
      "cell_type": "markdown",
      "source": [
        "*Extraction of Deep Features and Classification with KNN Classifier*"
      ],
      "metadata": {
        "id": "BWvoYLF4-2QC"
      }
    },
    {
      "cell_type": "code",
      "execution_count": null,
      "metadata": {
        "id": "gFYQhgCwyePZ",
        "colab": {
          "base_uri": "https://localhost:8080/"
        },
        "outputId": "c4d5cdfc-9df3-4344-e77e-e6556dcd45b8"
      },
      "outputs": [
        {
          "output_type": "stream",
          "name": "stdout",
          "text": [
            "(11177, 128)\n"
          ]
        }
      ],
      "source": [
        "predictions = final_model.layers[-2].output\n",
        " \n",
        "model_feat = keras.Model(inputs = final_model.inputs ,outputs = predictions)\n",
        " \n",
        "Extracted_features = model_feat.predict(images)\n",
        "print(Extracted_features.shape)"
      ]
    },
    {
      "cell_type": "code",
      "source": [
        "train_image, valid_image, train_label, valid_label = train_test_split(Extracted_features, labels, test_size=0.20, stratify = labels, random_state=10)\n",
        "val_img, test_img, val_lab, test_lab = train_test_split(valid_image, valid_label, test_size=0.5, stratify = valid_labels, random_state=50)"
      ],
      "metadata": {
        "id": "puJwxCwYgHVF"
      },
      "execution_count": null,
      "outputs": []
    },
    {
      "cell_type": "code",
      "source": [
        "from sklearn.metrics import accuracy_score, recall_score, precision_score\n",
        "from sklearn.neighbors import KNeighborsClassifier\n",
        "_classifier = KNeighborsClassifier(n_neighbors=5)\n"
      ],
      "metadata": {
        "id": "YyB2-s7B3LUe"
      },
      "execution_count": null,
      "outputs": []
    },
    {
      "cell_type": "code",
      "source": [
        "_classifier.fit(train_image, train_label)"
      ],
      "metadata": {
        "id": "wvSTLz3alF3l",
        "outputId": "921451b1-0983-4cde-c661-a37eb2b0fd50",
        "colab": {
          "base_uri": "https://localhost:8080/"
        }
      },
      "execution_count": null,
      "outputs": [
        {
          "output_type": "execute_result",
          "data": {
            "text/plain": [
              "KNeighborsClassifier()"
            ]
          },
          "metadata": {},
          "execution_count": 30
        }
      ]
    },
    {
      "cell_type": "code",
      "source": [
        "predictions = _classifier.predict(test_img)\n",
        "acc = accuracy_score(y_true = test_lab, y_pred = predictions)\n",
        "print(acc)"
      ],
      "metadata": {
        "colab": {
          "base_uri": "https://localhost:8080/"
        },
        "id": "v03CWeaGSK__",
        "outputId": "db46eb81-9da9-4d85-cd48-36b0e23f6ec1"
      },
      "execution_count": null,
      "outputs": [
        {
          "output_type": "stream",
          "name": "stdout",
          "text": [
            "0.9069767441860465\n"
          ]
        }
      ]
    },
    {
      "cell_type": "markdown",
      "source": [
        "*Applying FS with different FS algorithm on the extracted deep features*"
      ],
      "metadata": {
        "id": "2NUzWeXc_JTK"
      }
    },
    {
      "cell_type": "code",
      "source": [
        "final_features = Extracted_features\n",
        "lab = labels.reshape(labels.shape[0], 1)\n",
        "print(final_features.shape)\n",
        "print(lab.shape)\n",
        "np.savetxt(\"ext_features.csv\", final_features, delimiter=\",\")\n",
        "np.savetxt(\"features_lab.csv\", lab, delimiter=\",\")"
      ],
      "metadata": {
        "colab": {
          "base_uri": "https://localhost:8080/"
        },
        "id": "AhUzWZxPwMn6",
        "outputId": "51c614a7-0873-4716-f1ff-94ba1e6c52bf"
      },
      "execution_count": null,
      "outputs": [
        {
          "output_type": "stream",
          "name": "stdout",
          "text": [
            "(350, 128)\n",
            "(350,)\n"
          ]
        }
      ]
    },
    {
      "cell_type": "code",
      "source": [
        "df = pd.read_csv('/content/ext_features.csv', header=None)\n",
        "df2 = pd.read_csv('/content/features_lab.csv', header=None)\n",
        "#x = df.iloc[:100, :128]\n",
        "#print(x)\n",
        "print(df.shape)\n",
        "print(df2.shape)\n",
        "total_features=df.shape[1]\n",
        "x=df[df.columns[:total_features]]\n",
        "y=df2[df2.columns[-1]]\n",
        "print(y.shape)"
      ],
      "metadata": {
        "colab": {
          "base_uri": "https://localhost:8080/"
        },
        "id": "TkZGl-L11E0k",
        "outputId": "ec8f5891-8d45-483b-997e-81c1f5e7e817"
      },
      "execution_count": null,
      "outputs": [
        {
          "output_type": "stream",
          "name": "stdout",
          "text": [
            "(350, 128)\n",
            "(350, 1)\n",
            "(350,)\n"
          ]
        }
      ]
    },
    {
      "cell_type": "code",
      "source": [
        "from sklearn.model_selection import train_test_split\n",
        "train_X, val_X, train_Y, val_Y = train_test_split(x, y, test_size=0.20, stratify = labels, random_state=10)\n",
        "val_X, test_X, val_Y, test_Y = train_test_split(valid_image, valid_label, test_size=0.5, stratify = valid_labels, random_state=50)"
      ],
      "metadata": {
        "id": "sEqc8DwV174t"
      },
      "execution_count": null,
      "outputs": []
    },
    {
      "cell_type": "markdown",
      "source": [
        "Algorithm: Local Search based SSD "
      ],
      "metadata": {
        "id": "t1BA7CmGvdY_"
      }
    },
    {
      "cell_type": "code",
      "source": [
        "import numpy as np\n",
        "import pandas as pd\n",
        "import math\n",
        "import random\n",
        "import time\n",
        "from sklearn.metrics import accuracy_score, recall_score, precision_score\n",
        "from sklearn.model_selection import train_test_split\n",
        "from sklearn.ensemble import RandomForestClassifier\n",
        "from sklearn.neighbors import KNeighborsClassifier\n",
        "from sklearn.preprocessing import StandardScaler\n",
        " \n",
        " \n",
        "''' \n",
        "rows = [1001]\n",
        "cols = [1024]\n",
        "for r in range(len(rows)):\n",
        "  for c in range(len(cols)):\n",
        " \n",
        "    #final_features = Extracted_features[:rows[r], :cols[c]]\n",
        "    #lab = lab[:rows[r],:]\n",
        " \n",
        "    np.savetxt(\"ext_features.csv\", final_features, delimiter=\",\")\n",
        "    np.savetxt('labels.csv', lab, delimiter= ',')\n",
        "    df = pd.read_csv('/content/ext_features.csv')\n",
        "    df2 = pd.read_csv('/content/labels.csv')\n",
        "   \n",
        "#print(df.shape)\n",
        "#print('\\nx: \\n')\n",
        "#tot_features=len(df.columns)-1\n",
        "#x=df.iloc[:100, :128]\n",
        "#y=df2.iloc[:100]\n",
        " \n",
        "#x=df[df.columns]\n",
        " \n",
        "#print(x.shape)\n",
        "#print('\\n')\n",
        "#print(y.shape)\n",
        "    #print('\\n #Images: {}  #features: {}\\n'.format(rows[r]-1, cols[c]))\n",
        " \n",
        "    total_features=len(df.columns)\n",
        "    x=df[df.columns[:total_features]]\n",
        "    y=df2[df2.columns[-1]]\n",
        " '''\n",
        "    #splitting dataset and applying KNN\n",
        "''' \n",
        "x_train, x_test, y_train, y_test = train_test_split(x, y, test_size=0.2)\n",
        "_classifier = KNeighborsClassifier(n_neighbors=5)\n",
        "#\n",
        "y_train = np.array(y_train, dtype=int)\n",
        "y_test = np.array(y_test, dtype = int)\n",
        "#\n",
        "_classifier.fit(x_train, y_train)\n",
        "predictions = _classifier.predict(x_test)\n",
        "total_acc = accuracy_score(y_true = y_test, y_pred = predictions)\n",
        "total_error = 1 - total_acc\n",
        "'''\n",
        "swarm_size = 50   #population size\n",
        "max_iterations = 100\n",
        "omega = 0.2  #used in the fitness function\n",
        "delta=0.2   #to set an upper limit for including a slightly worse particle in LAHC\n",
        "\n",
        "\n",
        "def mutate(agent):\n",
        "  percent=0.2\n",
        "  numChange=int(total_features*percent)\n",
        "  pos=np.random.randint(0,total_features-1,numChange) #choose random positions to be mutated\n",
        "  agent[pos]=1-agent[pos] #mutation\n",
        "  return agent\n",
        "\n",
        "def LAHC(particle):\n",
        "            _lambda = 15 #upper limit on number of iterations in LAHC\n",
        "            target_fitness = find_fitness(particle) #original fitness\n",
        "            for i in range(_lambda):\n",
        "                    new_particle = mutate(particle) #first mutation\n",
        "                    temp = find_fitness(new_particle)\n",
        "                    if temp < target_fitness:\n",
        "                        particle = new_particle.copy() #updation\n",
        "                        target_fitness = temp\n",
        "                    elif (temp<=(1+delta)*target_fitness):\n",
        "                        temp_particle = new_particle.copy()\n",
        "                        for j in range(_lambda):\n",
        "                            temp_particle1 = mutate(temp_particle) #second mutation\n",
        "                            temp_fitness = find_fitness(temp_particle1)\n",
        "                            if temp_fitness < target_fitness:\n",
        "                                target_fitness=temp_fitness\n",
        "                                particle=temp_particle1.copy() #updation\n",
        "                            break\n",
        "            return particle   \n",
        "\n",
        "def randomwalk(agent):\n",
        "    percent = 30\n",
        "    percent /= 100\n",
        "    neighbor = agent.copy()\n",
        "    size = np.shape(agent)[0]\n",
        "    upper = int(percent*size)\n",
        "    if upper <= 1:\n",
        "        upper = size\n",
        "    x = random.randint(1,upper)\n",
        "    pos = random.sample(range(0,size - 1),x)\n",
        "    for i in pos:\n",
        "        neighbor[i] = 1 - neighbor[i]\n",
        "    return neighbor\n",
        " \n",
        "def adaptiveBeta(agent):\n",
        "    bmin = 0.1 #parameter: (can be made 0.01)\n",
        "    bmax = 1\n",
        "    maxIter = 10 # parameter: (can be increased )\n",
        "    \n",
        "    agentFit = find_fitness(agent)\n",
        "    for curr in range(maxIter):\n",
        "        neighbor = agent.copy()\n",
        "        size = np.shape(neighbor)[0]\n",
        "        neighbor = randomwalk(neighbor)\n",
        " \n",
        "        beta = bmin + (curr / maxIter)*(bmax - bmin)\n",
        "        for i in range(size):\n",
        "            random.seed( time.time() + i )\n",
        "            if random.random() <= beta:\n",
        "                neighbor[i] = agent[i]\n",
        "        neighFit = find_fitness(neighbor)\n",
        "        if neighFit <= agentFit:\n",
        "            agent = neighbor.copy()\n",
        "            \n",
        " \n",
        " \n",
        "    return agent\n",
        "\n",
        "def find_fitness(particle):\n",
        "            features = []\n",
        "            for x in range(len(particle)):\n",
        "                    if particle[x]>=0.5: #convert it to zeros and ones\n",
        "                        features.append(df.columns[x])\n",
        "            if(len(features)==0):\n",
        "                        return 10000\n",
        "            new_x_train = train_X[features].copy()\n",
        "            new_x_test = test_X[features].copy()\n",
        "\n",
        "            _classifier = KNeighborsClassifier(n_neighbors=5)\n",
        "            _classifier.fit(new_x_train, train_Y)\n",
        "            predictions = _classifier.predict(new_x_test).round()\n",
        "            acc = accuracy_score(y_true = test_Y, y_pred = predictions)\n",
        "            fitness = acc\n",
        "            err=1-acc\n",
        "            num_features = len(features)\n",
        "            fitness =  alpha*err + (1-alpha)*(num_features/total_features)\n",
        "\n",
        "            return fitness\n",
        "\n",
        "def transfer_func(velocity): #to convert into an array of zeros and ones\n",
        "            t=[]\n",
        "            for i in range(len(velocity)):\n",
        "                    t.append(abs(velocity[i]/(math.sqrt(1+velocity[i]*velocity[i])))) #transfer function inside paranthesis\n",
        "            return t\n",
        "\n",
        "#initialize swarm position and swarm velocity of SSD\n",
        "swarm_vel = np.random.uniform(low=0, high=1, size=(swarm_size,total_features))\n",
        "\n",
        "swarm_pos = np.random.uniform(size=(swarm_size,total_features))\n",
        "swarm_pos = np.where(swarm_pos>=0.5,1,0)\n",
        "\n",
        "c = 100\n",
        "alpha= 0.9\n",
        "\n",
        "gbest_fitness=100000\n",
        "pbest_fitness = np.zeros(swarm_size)\n",
        "pbest_fitness.fill(np.inf)  #initialize with the worse possible values\n",
        "pbest = np.empty((swarm_size,total_features))\n",
        "gbest = np.empty(total_features)\n",
        "pbest.fill(np.inf)\n",
        "gbest.fill(np.inf)\n",
        "\n",
        "for itr in range(max_iterations):\n",
        "\n",
        "                for i in range(swarm_size):\n",
        "                  \n",
        "                    #swarm_pos[i] = LAHC(swarm_pos[i]) # To activte LAHC local search \n",
        "                    swarm_pos[i] = adaptiveBeta(swarm_pos[i])   # To activte ABHC local search \n",
        "                    fitness = find_fitness(swarm_pos[i])\n",
        "\n",
        "                    if fitness < gbest_fitness:\n",
        "\n",
        "                        gbest=swarm_pos[i].copy() #updating global best\n",
        "                        gbest_fitness=fitness\n",
        "\n",
        "\n",
        "\n",
        "                    if fitness < pbest_fitness[i]:\n",
        "                        pbest[i] = swarm_pos[i].copy() #updating personal best\n",
        "                        pbest_fitness[i]=fitness\n",
        "\n",
        "                    r1 = random.random()\n",
        "                    r2 = random.random()\n",
        "\n",
        "          #updating the swarm velocity\n",
        "                    if r1 < 0.5:\n",
        "                        swarm_vel[i] = c*math.sin(r2)*(pbest[i]-swarm_pos[i]) +math.sin(r2)* (gbest-swarm_pos[i])\n",
        "                    else:\n",
        "                        swarm_vel[i] = c*math.cos(r2)*(pbest[i]-swarm_pos[i]) + math.cos(r2)*(gbest-swarm_pos[i])\n",
        "                    \n",
        "          #decaying value of c\n",
        "                    alpha= 0.9\n",
        "                    c=alpha*c;\n",
        "          \n",
        "          #applying transfer function and then updating the swarm position\n",
        "                    t = transfer_func(swarm_vel[i])\n",
        "                    for j in range(len(swarm_pos[i])):\n",
        "                        if(t[j] < 0.5):\n",
        "                            swarm_pos[i][j] = swarm_pos[i][j]\n",
        "                        else:\n",
        "                            swarm_pos[i][j] = 1 - swarm_pos[i][j]\n",
        "\n",
        "\n",
        "\n",
        "selected_features = gbest\n",
        "print(gbest_fitness)\n",
        "            \n",
        "number_of_selected_features = np.sum(selected_features)\n",
        "print(\"#\",number_of_selected_features)\n",
        "\n",
        "features=[]\n",
        "for j in range(len(selected_features)):\n",
        "                if selected_features[j]==1:\n",
        "                        features.append(df.columns[j])\n",
        "new_x_train = train_X[features]\n",
        "new_x_test = test_X[features]\n",
        "\n",
        "_classifier = KNeighborsClassifier(n_neighbors=5)\n",
        "_classifier.fit(new_x_train, train_Y)\n",
        "predictions = _classifier.predict(new_x_test).round()\n",
        "acc = accuracy_score(y_true = test_Y, y_pred = predictions)\n",
        "pre = precision_score(y_true = test_Y, y_pred = predictions)\n",
        "rec = recall_score(y_true = test_Y, y_pred = predictions)\n",
        "fitness = acc\n",
        "print(\"Acc:\",fitness)\n",
        "print(\"Precision:\", pre)\n",
        "print(\"Recall:\",rec)\n",
        "print(\"\\n\\n\")"
      ],
      "metadata": {
        "colab": {
          "base_uri": "https://localhost:8080/"
        },
        "id": "pDWlR6wnu52V",
        "outputId": "6612029a-c319-401a-bd1b-983313e902ee"
      },
      "execution_count": null,
      "outputs": [
        {
          "output_type": "stream",
          "name": "stdout",
          "text": [
            "0.10647321428571425\n",
            "# 54\n",
            "Acc: 0.9285714285714286\n",
            "Precision: 1.0\n",
            "Recall: 0.375\n",
            "\n",
            "\n",
            "\n"
          ]
        }
      ]
    },
    {
      "cell_type": "markdown",
      "source": [
        "**To plot the ROC curve**"
      ],
      "metadata": {
        "id": "jMO2EpTkfEe_"
      }
    },
    {
      "cell_type": "code",
      "source": [
        "from sklearn.metrics import roc_curve, auc, roc_auc_score\n",
        "fpr, tpr, thresholds = roc_curve(y_test, predictions)\n",
        "\n",
        "auc = auc(fpr, tpr)\n",
        "sc = roc_auc_score(y_test, predictions)\n",
        "print(auc)\n",
        "print(sc)\n",
        "\n",
        "import matplotlib.pyplot as plt\n",
        "plt.figure(1)\n",
        "plt.plot([0, 1], [0, 1],\"--\")\n",
        "\n",
        "plt.plot(fpr, tpr, label='ROC curve (area = {:.3f})'.format(auc), color='orange')\n",
        "plt.xlabel('False positive rate')\n",
        "plt.ylabel('True positive rate')\n",
        "plt.title('ROC curve')\n",
        "plt.legend(loc='best')\n",
        "plt.show()"
      ],
      "metadata": {
        "id": "Re15qbMeeuK9"
      },
      "execution_count": null,
      "outputs": []
    },
    {
      "cell_type": "markdown",
      "source": [
        "**Algorithm: Local Search based GSA, WOA, GWO, GA, PSO, SCA, HS, & EO.**"
      ],
      "metadata": {
        "id": "r5YOnDYxdbE8"
      }
    },
    {
      "cell_type": "code",
      "source": [
        "from utils.LS_GA import GA\n",
        "from utils.LS_GSA import GSA\n",
        "from utils.LS_GWO import GWO\n",
        "from utils.LS_WOA import WOA\n",
        "from utils.LS_PSO import PSO\n",
        "from utils.LS_SCA import SCA\n",
        "from utils.LS_EO import EO\n",
        "from utils.LS_HS import HS"
      ],
      "metadata": {
        "id": "fDxjjT0WrPku"
      },
      "execution_count": null,
      "outputs": []
    },
    {
      "cell_type": "code",
      "source": [
        "#solution, result = GA(20, 100, x, y, save_conv_graph=True)   # To run Local search based GA algorithm\n",
        "#solution, result = GSA(20, 100, x, y, save_conv_graph=True)  # To run Local search based GSA algorithm\n",
        "#solution, result = GWO(20, 100, x, y, save_conv_graph=True)  # To run Local search based GWO algorithm\n",
        "solution, result = WOA(20, 100, x, y, save_conv_graph=True)   # To run Local search based WOA algorithm\n",
        "#solution, result = PSO(20, 100, x, y, save_conv_graph=True)  # To run Local search based PSO algorithm\n",
        "#solution, result = SCA(20, 100, x, y, save_conv_graph=True)  # To run Local search based SCA algorithm\n",
        "#solution, result = EO(20, 100, x, y, save_conv_graph=True)   # To run Local search based EO algorithm\n",
        "#solution, result = HS(20, 100, x, y, save_conv_graph=True)   # To run Local search based HS algorithm\n",
        "print(result.accuracy)\n",
        "print(result.precision)\n",
        "print(result.recall)"
      ],
      "metadata": {
        "id": "m8c35Q62eTTV"
      },
      "execution_count": null,
      "outputs": []
    }
  ],
  "metadata": {
    "accelerator": "GPU",
    "colab": {
      "name": "Breast_Cancer_Mammograms.ipynb",
      "provenance": [],
      "authorship_tag": "ABX9TyMtIljFE9DKuHxNgZMNUizP",
      "include_colab_link": true
    },
    "kernelspec": {
      "display_name": "Python 3",
      "name": "python3"
    },
    "language_info": {
      "name": "python"
    }
  },
  "nbformat": 4,
  "nbformat_minor": 0
}